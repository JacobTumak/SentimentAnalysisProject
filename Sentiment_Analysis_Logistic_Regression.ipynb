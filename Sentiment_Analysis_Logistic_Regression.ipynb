{
  "cells": [
    {
      "cell_type": "markdown",
      "metadata": {
        "id": "view-in-github",
        "colab_type": "text"
      },
      "source": [
        "<a href=\"https://colab.research.google.com/github/JacobTumak/SentimentAnalysisProject/blob/main/Sentiment_Analysis_Logistic_Regression.ipynb\" target=\"_parent\"><img src=\"https://colab.research.google.com/assets/colab-badge.svg\" alt=\"Open In Colab\"/></a>"
      ]
    },
    {
      "cell_type": "markdown",
      "metadata": {
        "id": "Ejv17dQs_RZx"
      },
      "source": [
        "#**Importing/Installing Packages**"
      ]
    },
    {
      "cell_type": "code",
      "execution_count": 14,
      "metadata": {
        "colab": {
          "base_uri": "https://localhost:8080/"
        },
        "id": "Z8czLxQF_NBv",
        "outputId": "e44969f1-c461-4c80-e85e-d023b1f6674b"
      },
      "outputs": [
        {
          "output_type": "stream",
          "name": "stderr",
          "text": [
            "[nltk_data] Downloading package punkt to /root/nltk_data...\n",
            "[nltk_data]   Package punkt is already up-to-date!\n",
            "[nltk_data] Downloading package stopwords to /root/nltk_data...\n",
            "[nltk_data]   Package stopwords is already up-to-date!\n"
          ]
        }
      ],
      "source": [
        "import json\n",
        "from collections import Counter\n",
        "import numpy as np\n",
        "import nltk\n",
        "from nltk import (sent_tokenize, word_tokenize)\n",
        "from nltk.corpus import stopwords\n",
        "nltk.download(['punkt', 'stopwords'])\n",
        "stop_words = set(stopwords.words(\"english\"))"
      ]
    },
    {
      "cell_type": "code",
      "execution_count": 2,
      "metadata": {
        "id": "ny93Gqp61byz"
      },
      "outputs": [],
      "source": [
        "\n",
        "stop_words.add('br')\n",
        "# 'br' appears most in text later on as a break operator.\n",
        "# Adding it to the stopwords list now will prevent it from \n",
        "# becoming the most seen 'word' later on."
      ]
    },
    {
      "cell_type": "markdown",
      "metadata": {
        "id": "JmM5-mXF8i9R"
      },
      "source": [
        "# **Importing DataSets from google Drive**"
      ]
    },
    {
      "cell_type": "markdown",
      "metadata": {
        "id": "anZSaMk681A9"
      },
      "source": [
        "Read the file taken from drive into a list of reviews. Drive must be mounted into the same drive account that colab is using or else it won't mount."
      ]
    },
    {
      "cell_type": "code",
      "execution_count": 3,
      "metadata": {
        "colab": {
          "base_uri": "https://localhost:8080/"
        },
        "id": "nxABm1dY7okA",
        "outputId": "5dbc013b-b800-44f1-f27a-c65331b3300a"
      },
      "outputs": [
        {
          "output_type": "stream",
          "name": "stdout",
          "text": [
            "Mounted at /content/gdrive\n"
          ]
        }
      ],
      "source": [
        "from google.colab import drive # Must use same account as the notebook is in, otherwise it won't mount\n",
        "drive.mount(\"/content/gdrive\")"
      ]
    },
    {
      "cell_type": "code",
      "source": [
        "import os\n",
        "\n",
        "def fetch_dataV2(identifier):\n",
        "  text = list()\n",
        "  directory = f\"/content/gdrive/My Drive/Train/{identifier}\"\n",
        "  for file_name in os.listdir(directory):\n",
        "      if file_name.endswith(\".txt\"):\n",
        "          file_path = os.path.join(directory, file_name)\n",
        "          with open(file_path, \"r\") as f:\n",
        "              text.append(f.read())\n",
        "          if len(text)>1000:\n",
        "            break\n",
        "  return text"
      ],
      "metadata": {
        "id": "IRyqTktRjCX5"
      },
      "execution_count": 4,
      "outputs": []
    },
    {
      "cell_type": "markdown",
      "metadata": {
        "id": "OS4svOFS6yqh"
      },
      "source": [
        "compile first 10 positive and negative reviews into their respective lists. Just for testing. Final trial will have more reviews loaded"
      ]
    },
    {
      "cell_type": "code",
      "execution_count": 5,
      "metadata": {
        "id": "dYftZeUcAh2L"
      },
      "outputs": [],
      "source": [
        "neg_reviews = fetch_dataV2('neg')\n",
        "pos_reviews = fetch_dataV2('pos')"
      ]
    },
    {
      "cell_type": "code",
      "source": [
        "neg_reviews"
      ],
      "metadata": {
        "id": "rOZwPYwkpRQH"
      },
      "execution_count": null,
      "outputs": []
    },
    {
      "cell_type": "markdown",
      "metadata": {
        "id": "u15brxHdGcq9"
      },
      "source": [
        "# **Training data preparation**\n",
        "\n",
        "---\n",
        "\n"
      ]
    },
    {
      "cell_type": "code",
      "source": [
        "from nltk.stem import PorterStemmer\n",
        "ps = PorterStemmer()\n",
        "from collections import Counter\n",
        "import string"
      ],
      "metadata": {
        "id": "F4OITWLIqNEO"
      },
      "execution_count": 7,
      "outputs": []
    },
    {
      "cell_type": "code",
      "source": [
        "def remove_dups(w_lst):\n",
        "  return list(dict.fromkeys(w_lst))"
      ],
      "metadata": {
        "id": "FN0ESXbZ912_"
      },
      "execution_count": 29,
      "outputs": []
    },
    {
      "cell_type": "code",
      "source": [
        "def process_data(reviews):\n",
        "  all_words = list()\n",
        "  word_count = []\n",
        "  rev_obj = list()\n",
        "  for list_obj in reviews:\n",
        "    for review in list_obj[1]:\n",
        "      words = word_tokenize(review.lower())\n",
        "      words = [ps.stem(word) for word in words if word not in stop_words and word not in string.punctuation]\n",
        "      word_count.extend(words)\n",
        "      words = remove_dups(words)\n",
        "      rev_obj.append([list_obj[0], words])\n",
        "  all_words = [word for word in dict(Counter(word_count))]\n",
        "  return {'word data':dict(sorted(Counter(word_count).items(), key=lambda x:x[1], reverse=True)), 'review data':rev_obj}"
      ],
      "metadata": {
        "id": "6vRsD-xEo8TN"
      },
      "execution_count": 115,
      "outputs": []
    },
    {
      "cell_type": "code",
      "execution_count": 11,
      "metadata": {
        "id": "rJMhdmSXYojs"
      },
      "outputs": [],
      "source": [
        "def get_input_array(data, test_data=None, request='train'):\n",
        "  rule = data['word data'].keys()\n",
        "  y_vals = np.array([])\n",
        "  array_size = len(rule)\n",
        "  array_2d = np.zeros(array_size, dtype=np.int8)\n",
        "  rev_objects = data['review data']\n",
        "\n",
        "  if test_data != None:\n",
        "    rev_objects = test_data['review data']\n",
        "\n",
        "  for rev_obj in rev_objects:\n",
        "    line = np.zeros(array_size, dtype=np.int8)\n",
        "    y_vals = np.append(y_vals, rev_obj[0])\n",
        "    for i in range(array_size):\n",
        "      if rule[i] in rev_obj[1]:\n",
        "        line[i] = 1\n",
        "    array_2d = np.vstack([array_2d, line])\n",
        "  return (y_vals.astype(int), array_2d[1:].astype(int))"
      ]
    },
    {
      "cell_type": "code",
      "source": [
        "from nltk.util import ngrams\n",
        "def get_n_grams(n, reviews):\n"
      ],
      "metadata": {
        "id": "h69Xfu1N8s2a"
      },
      "execution_count": null,
      "outputs": []
    },
    {
      "cell_type": "code",
      "source": [
        "from pprint import pprint"
      ],
      "metadata": {
        "id": "uULAm5qnU5Io"
      },
      "execution_count": 34,
      "outputs": []
    },
    {
      "cell_type": "code",
      "source": [
        "# train_data = process_data([[1, pos_reviews],[0, neg_reviews]])\n",
        "\n",
        "yx_vals = get_input_array(train_data)\n",
        "y_vals = yx_vals[0]\n",
        "x_vals = yx_vals[1]"
      ],
      "metadata": {
        "colab": {
          "base_uri": "https://localhost:8080/",
          "height": 240
        },
        "id": "Bj1MuWNwz-wr",
        "outputId": "e3f619e5-2420-490c-d84a-1f2afb79395b"
      },
      "execution_count": 13,
      "outputs": [
        {
          "ename": "NameError",
          "evalue": "ignored",
          "output_type": "error",
          "traceback": [
            "\u001b[0;31m---------------------------------------------------------------------------\u001b[0m",
            "\u001b[0;31mNameError\u001b[0m                                 Traceback (most recent call last)",
            "\u001b[0;32m<ipython-input-13-1982643a1c72>\u001b[0m in \u001b[0;36m<module>\u001b[0;34m\u001b[0m\n\u001b[1;32m      1\u001b[0m \u001b[0;31m# train_data = process_data([[1, pos_reviews],[0, neg_reviews]])\u001b[0m\u001b[0;34m\u001b[0m\u001b[0;34m\u001b[0m\u001b[0;34m\u001b[0m\u001b[0m\n\u001b[1;32m      2\u001b[0m \u001b[0;34m\u001b[0m\u001b[0m\n\u001b[0;32m----> 3\u001b[0;31m \u001b[0myx_vals\u001b[0m \u001b[0;34m=\u001b[0m \u001b[0mget_input_array\u001b[0m\u001b[0;34m(\u001b[0m\u001b[0mtrain_data\u001b[0m\u001b[0;34m)\u001b[0m\u001b[0;34m\u001b[0m\u001b[0;34m\u001b[0m\u001b[0m\n\u001b[0m\u001b[1;32m      4\u001b[0m \u001b[0my_vals\u001b[0m \u001b[0;34m=\u001b[0m \u001b[0myx_vals\u001b[0m\u001b[0;34m[\u001b[0m\u001b[0;36m0\u001b[0m\u001b[0;34m]\u001b[0m\u001b[0;34m\u001b[0m\u001b[0;34m\u001b[0m\u001b[0m\n\u001b[1;32m      5\u001b[0m \u001b[0mx_vals\u001b[0m \u001b[0;34m=\u001b[0m \u001b[0myx_vals\u001b[0m\u001b[0;34m[\u001b[0m\u001b[0;36m1\u001b[0m\u001b[0;34m]\u001b[0m\u001b[0;34m\u001b[0m\u001b[0;34m\u001b[0m\u001b[0m\n",
            "\u001b[0;31mNameError\u001b[0m: name 'train_data' is not defined"
          ]
        }
      ]
    },
    {
      "cell_type": "code",
      "source": [
        "train_data = process_data([[1, pos_reviews],[0, neg_reviews]])"
      ],
      "metadata": {
        "id": "qMMMkh3wv_CR"
      },
      "execution_count": 116,
      "outputs": []
    },
    {
      "cell_type": "code",
      "source": [
        "print(len(train_data['word data']))\n",
        "print(len(remove_outliers(train_data)))"
      ],
      "metadata": {
        "colab": {
          "base_uri": "https://localhost:8080/"
        },
        "id": "lSdjDesiETXx",
        "outputId": "ba28ed88-e520-45dc-c48f-6b2c28a5ea48"
      },
      "execution_count": 122,
      "outputs": [
        {
          "output_type": "stream",
          "name": "stdout",
          "text": [
            "21327\n",
            "0\n"
          ]
        }
      ]
    },
    {
      "cell_type": "markdown",
      "source": [
        "#**Word Use Analysis**"
      ],
      "metadata": {
        "id": "CXzOTNbvhv8Z"
      }
    },
    {
      "cell_type": "code",
      "source": [
        "def remove_outliers(reviews, min_percent=0.001, max_percent=0.001):\n",
        "    if max_percent == False:\n",
        "      max_percent = 1\n",
        "    if min_percent == False:\n",
        "      min_percent = 0\n",
        "\n",
        "    word_data = reviews['word data']\n",
        "    num_words = len(word_data)\n",
        "    return {word: word_data[word] for word in word_data if word_data[word] / num_words > min_percent and word_data[word] / num_words < max_percent}"
      ],
      "metadata": {
        "id": "a2nP0WyV_41h"
      },
      "execution_count": 78,
      "outputs": []
    },
    {
      "cell_type": "code",
      "source": [
        "def get_word_stats(word_data):\n",
        "  stats = {value: 0 for value in word_data.values()}\n",
        "  for word in word_data:\n",
        "    stats[word_data[word]] += 1\n",
        "  return stats"
      ],
      "metadata": {
        "id": "KT-vGKNlYBdG"
      },
      "execution_count": 132,
      "outputs": []
    },
    {
      "cell_type": "markdown",
      "source": [
        "The output structure of \"get_word_stats\":\n",
        "\n",
        "Keys are the frequency of use for a word\n",
        "\n",
        "Values are the amount of words that have that frequency\n",
        "\n",
        "for ex; {8:331} means that there are 331 words that appear 8 times"
      ],
      "metadata": {
        "id": "mT7URtR4goE3"
      }
    },
    {
      "cell_type": "code",
      "source": [
        "relative_high = max(train_data['word data'].values()) / len(train_data['word data'])\n",
        "rank = sorted([(train_data['word data'][word]/len(train_data['word data']))/relative_high for word in train_data['word data']], reverse=True)"
      ],
      "metadata": {
        "id": "OyoSYAy7b_hi"
      },
      "execution_count": null,
      "outputs": []
    },
    {
      "cell_type": "code",
      "source": [
        "{item: stats[item] for item in stats if item < 10}"
      ],
      "metadata": {
        "colab": {
          "base_uri": "https://localhost:8080/"
        },
        "id": "i6Rf4U46cx6Q",
        "outputId": "d4f4d127-04de-4349-8ea5-c503e7cfba09"
      },
      "execution_count": 140,
      "outputs": [
        {
          "output_type": "execute_result",
          "data": {
            "text/plain": [
              "{8: 331, 7: 415, 6: 543, 5: 699, 4: 964, 3: 1521}"
            ]
          },
          "metadata": {},
          "execution_count": 140
        }
      ]
    },
    {
      "cell_type": "code",
      "source": [
        "import matplotlib.pyplot as plt\n",
        "\n",
        "stats = get_word_stats(train_data['word data'])\n",
        "plt.scatter(stats.keys(), stats.values())\n",
        "plt.show()"
      ],
      "metadata": {
        "colab": {
          "base_uri": "https://localhost:8080/",
          "height": 265
        },
        "id": "8A34wHdcItw5",
        "outputId": "8c9344cc-14d5-4991-e153-5afb7feb159f"
      },
      "execution_count": 134,
      "outputs": [
        {
          "output_type": "display_data",
          "data": {
            "text/plain": [
              "<Figure size 432x288 with 1 Axes>"
            ],
            "image/png": "[encoded data removed]"
          },
          "metadata": {
            "needs_background": "light"
          }
        }
      ]
    },
    {
      "cell_type": "markdown",
      "source": [
        "# **Making The Sentiment Analysis Class**"
      ],
      "metadata": {
        "id": "Xapcr5VLW3UT"
      }
    },
    {
      "cell_type": "code",
      "source": [
        "len(x_vals) == len(y_vals)"
      ],
      "metadata": {
        "id": "QIDcY-p1W270"
      },
      "execution_count": null,
      "outputs": []
    },
    {
      "cell_type": "code",
      "source": [
        "lr_trial = LogisticRegression()\n",
        "lr_trial.fit(x_vals, y_vals)"
      ],
      "metadata": {
        "id": "gpsEYj2rW_ih"
      },
      "execution_count": null,
      "outputs": []
    },
    {
      "cell_type": "code",
      "source": [
        "test_data = process_data([[1, pos_reviews[10:20]],[0, neg_reviews[10:20]]])\n",
        "yx_vals = get_input_array(data, test_data=test_data)\n",
        "x_test = yx_vals[1]\n",
        "lr_trial.predict(x_vals)"
      ],
      "metadata": {
        "id": "tta_1g6uiiR7"
      },
      "execution_count": null,
      "outputs": []
    },
    {
      "cell_type": "code",
      "source": [
        "lr_trial"
      ],
      "metadata": {
        "id": "wyaJc_6KfIBN"
      },
      "execution_count": null,
      "outputs": []
    },
    {
      "cell_type": "code",
      "source": [
        "# This class was made and annotated by Chat-GPT.\n",
        "# I wanted to use it to learn what goes into a logistic regression algorithm to understand it better.\n",
        "#List modifications:\n",
        "\n",
        "class LogisticRegression:\n",
        "    def __init__(self, lr=0.01, num_iter=100000, fit_intercept=True, verbose=False):\n",
        "\n",
        "        self.lr = lr                    # learning rate\n",
        "        self.num_iter = num_iter        # number of iterations\n",
        "        self.fit_intercept = fit_intercept  # whether or not to fit an intercept term\n",
        "        self.verbose = verbose          # whether or not to print out training progress\n",
        "        \n",
        "    def __add_intercept(self, X):\n",
        "        \"\"\" Adds an intercept term to a feature matrix X \"\"\"\n",
        "        intercept = np.ones((X.shape[0], 1))\n",
        "        return np.concatenate((intercept, X), axis=1)\n",
        "    \n",
        "    def __sigmoid(self, z):\n",
        "        \"\"\" Sigmoid function \"\"\"\n",
        "        return 1 / (1 + np.exp(-z))\n",
        "    \n",
        "    def __loss(self, h, y):\n",
        "        \"\"\" Logistic loss function \"\"\"\n",
        "        return (-y * np.log(h) - (1 - y) * np.log(1 - h)).mean()\n",
        "    \n",
        "    def fit(self, X, y):\n",
        "        \"\"\" Fits the logistic regression model using gradient descent \"\"\"\n",
        "        \n",
        "        if self.fit_intercept:\n",
        "            X = self.__add_intercept(X)\n",
        "        \n",
        "        # weights initialization\n",
        "        self.theta = np.zeros(X.shape[1])\n",
        "        \n",
        "        # gradient descent loop\n",
        "        for i in range(self.num_iter):\n",
        "            z = np.dot(X, self.theta)\n",
        "            h = self.__sigmoid(z)\n",
        "            gradient = np.dot(X.T, (h - y)) / y.size\n",
        "            self.theta -= self.lr * gradient\n",
        "            \n",
        "            if self.verbose and i % 10000 == 0:\n",
        "                z = np.dot(X, self.theta)\n",
        "                h = self.__sigmoid(z)\n",
        "                print(f'Loss: {self.__loss(h, y)} \\t')\n",
        "\n",
        "    def predict_prob(self, X):\n",
        "        \"\"\" Predicts class probabilities for input data \"\"\"\n",
        "        \n",
        "        if self.fit_intercept:\n",
        "            X = self.__add_intercept(X)\n",
        "    \n",
        "        return self.__sigmoid(np.dot(X, self.theta))\n",
        "\n",
        "    def predict(self, X, threshold=0.5):\n",
        "        \"\"\" Predicts binary classes for input data using a threshold \"\"\"\n",
        "        \n",
        "        return self.predict_prob(X) >= threshold"
      ],
      "metadata": {
        "id": "XtzJjMh3XZtk"
      },
      "execution_count": null,
      "outputs": []
    }
  ],
  "metadata": {
    "colab": {
      "collapsed_sections": [
        "A1_4TNj3Ib_G"
      ],
      "provenance": [],
      "authorship_tag": "ABX9TyMslFjidPdvRMqOaEa/w+wG",
      "include_colab_link": true
    },
    "gpuClass": "standard",
    "kernelspec": {
      "display_name": "Python 3",
      "name": "python3"
    },
    "language_info": {
      "name": "python"
    }
  },
  "nbformat": 4,
  "nbformat_minor": 0
}