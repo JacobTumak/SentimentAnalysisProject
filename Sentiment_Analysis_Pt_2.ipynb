{
  "nbformat": 4,
  "nbformat_minor": 0,
  "metadata": {
    "colab": {
      "provenance": [],
      "collapsed_sections": [
        "KmrO5qC85C8T"
      ],
      "mount_file_id": "1JZfrNl0NDMHP-Y4Yi2js1eMNA86goIuM",
      "authorship_tag": "ABX9TyONgWYDKcI5OEcfj5GvS/1m",
      "include_colab_link": true
    },
    "kernelspec": {
      "name": "python3",
      "display_name": "Python 3"
    },
    "language_info": {
      "name": "python"
    }
  },
  "cells": [
    {
      "cell_type": "markdown",
      "metadata": {
        "id": "view-in-github",
        "colab_type": "text"
      },
      "source": [
        "<a href=\"https://colab.research.google.com/github/JacobTumak/SentimentAnalysisProject/blob/main/Sentiment_Analysis_Pt_2.ipynb\" target=\"_parent\"><img src=\"https://colab.research.google.com/assets/colab-badge.svg\" alt=\"Open In Colab\"/></a>"
      ]
    },
    {
      "cell_type": "markdown",
      "source": [
        "#**Import packages and get trained  from my google drive**"
      ],
      "metadata": {
        "id": "EZs44FVl7p6t"
      }
    },
    {
      "cell_type": "code",
      "execution_count": null,
      "metadata": {
        "colab": {
          "base_uri": "https://localhost:8080/"
        },
        "id": "l573Fnd98S_K",
        "outputId": "634c1f89-ef29-4658-87b7-0c6cbe1551f1"
      },
      "outputs": [
        {
          "output_type": "stream",
          "name": "stderr",
          "text": [
            "[nltk_data] Downloading package punkt to /root/nltk_data...\n",
            "[nltk_data]   Package punkt is already up-to-date!\n",
            "[nltk_data] Downloading package stopwords to /root/nltk_data...\n",
            "[nltk_data]   Package stopwords is already up-to-date!\n"
          ]
        }
      ],
      "source": [
        "import json\n",
        "import nltk\n",
        "from dataclasses import dataclass\n",
        "from nltk import (sent_tokenize, word_tokenize)\n",
        "from nltk.tokenize import RegexpTokenizer\n",
        "nltk.download(['punkt', 'stopwords'])\n",
        "from nltk.corpus import stopwords\n",
        "from nltk.stem import PorterStemmer\n",
        "ps = PorterStemmer()\n",
        "stop_words = set(stopwords.words(\"english\"))\n",
        "stop_words.add('br')"
      ]
    },
    {
      "cell_type": "code",
      "source": [
        "with open(\"/content/drive/MyDrive/Train/test_file.txt\", 'r') as json_file:\n",
        "  data_set = json.load(json_file)"
      ],
      "metadata": {
        "id": "l1VY71fY41W2"
      },
      "execution_count": null,
      "outputs": []
    },
    {
      "cell_type": "markdown",
      "source": [
        "# Steal word_frequency function from other colab doc"
      ],
      "metadata": {
        "id": "KmrO5qC85C8T"
      }
    },
    {
      "cell_type": "code",
      "source": [
        "# def fetch_data(identifier, min_index, max_index): # Uses \"append\" method\n",
        "#   output_var = []\n",
        "#   for i in range(min_index, max_index + 1):\n",
        "#     for j in range(-1,11):\n",
        "#       try:\n",
        "#         output_var.append((open(f'/content/gdrive/My Drive/Train/Test/{identifier}/{i}_{j}.txt', 'r')).read())\n",
        "#       except:\n",
        "#         continue\n",
        "#   return output_var\n",
        "\n",
        "# def process_data(data_set):\n",
        "  \n",
        "#   data_set = word_tokenize(data_set.lower()) # seperates strings into lists of words in original order\n",
        "#   processed_set = [word for word in data_set if word not in stop_words and word.isalpha()]\n",
        "\n",
        "#   # data_set = [data_set[i][j] for i in range(len(data_set)) for j in range(len(data_set[i])) if data_set[i][j].lower() not in stop_words and data_set[i][j].isalpha()]\n",
        "#   # [\"\".join(word.lower()) for word in data_set]\n",
        "#   return processed_set\n",
        "\n",
        "def word_frequency(list1, list2):\n",
        "  top_words = {}\n",
        "  for word in list1:\n",
        "    if word in top_words.keys():\n",
        "      top_words[word] += 1\n",
        "    else:\n",
        "      top_words[word] = 1\n",
        "    for word in list2:\n",
        "      if word not in list1:\n",
        "        top_words[word] = 0\n",
        "        \n",
        "  return dict(sorted(top_words.items(), key=lambda x:x[1], reverse=True))"
      ],
      "metadata": {
        "id": "zPf-iqHX424h"
      },
      "execution_count": null,
      "outputs": []
    },
    {
      "cell_type": "markdown",
      "source": [
        "#**Build functions to find words that are present in each review in the dataset.**\n",
        "Important to keep each review seperated"
      ],
      "metadata": {
        "id": "GO5LrRSR60nx"
      }
    },
    {
      "cell_type": "code",
      "source": [
        "def fetch_data(identifier, index):\n",
        "  output_var = []\n",
        "  for j in range(0,11):\n",
        "    try:\n",
        "      output_var = open(f'/content/drive/MyDrive/Train/Test/{identifier}/{index}_{j}.txt', 'r').read()\n",
        "    except:\n",
        "      continue\n",
        "  return output_var"
      ],
      "metadata": {
        "id": "0_R1GaCxb-Rr"
      },
      "execution_count": null,
      "outputs": []
    },
    {
      "cell_type": "code",
      "source": [
        "def count_words(reviews):\n",
        "  word_frequency = [{'data': {'word frequency': seperate_data(remove_stopwords(review)), 'rating': 'unrated', 'sentiment':'to be determined'}, 'review': review} for review in reviews]\n",
        "  return word_frequency"
      ],
      "metadata": {
        "id": "71u7oUO0902E"
      },
      "execution_count": null,
      "outputs": []
    },
    {
      "cell_type": "code",
      "source": [
        "def remove_stopwords(data_set):\n",
        "  data_set = [word_tokenize(data_set)] # seperates strings into lists of words in original order\n",
        "  data_set = [data_set[i][j].lower() for i in range(len(data_set)) for j in range(len(data_set[i])) if data_set[i][j].lower() not in stop_words and data_set[i][j].isalpha()]\n",
        "  [\"\".join(word) for word in data_set]\n",
        "  return data_set"
      ],
      "metadata": {
        "id": "H4SznpwJ7C0w"
      },
      "execution_count": null,
      "outputs": []
    },
    {
      "cell_type": "code",
      "source": [
        "def seperate_data(filtered_review):\n",
        "  seperated_data = {word : 0 for word in filtered_review} \n",
        "  for word in filtered_review:\n",
        "    seperated_data[word] +=1\n",
        "  return seperated_data"
      ],
      "metadata": {
        "id": "I-tf4n8_6zxl"
      },
      "execution_count": null,
      "outputs": []
    },
    {
      "cell_type": "markdown",
      "source": [
        "#**build functions to predict sentiment of individual reviews based on trained data set.**"
      ],
      "metadata": {
        "id": "Oz1547HhYRRD"
      }
    },
    {
      "cell_type": "code",
      "source": [
        "def analyse_review_data(rev_set, analysis_model, bias): # Data format is either processed data set or raw text\n",
        "  for review in rev_set:      # compile list of like words from data\n",
        "    score = float(0);  words_scored = float(0)\n",
        "    for word in review['data']['word frequency']:\n",
        "      if word in analysis_model:\n",
        "        score += analysis_model[word]['Positive']['Dist']\n",
        "        words_scored += 1\n",
        "    review['data']['rating'] = round((score/words_scored)*100, 2)\n",
        "    if score/words_scored >= bias:  # (Later on) Test altering bias towards positive or negative reviews and find value correlated with highest accuracy\n",
        "      review['data']['sentiment'] = 'positive'\n",
        "    else:\n",
        "      review['data']['sentiment'] = 'negative'\n",
        "      review['data']['rating'] = 100.00 - review['data']['rating']"
      ],
      "metadata": {
        "id": "2gDosY5JYfli"
      },
      "execution_count": null,
      "outputs": []
    },
    {
      "cell_type": "code",
      "source": [
        "def get_accuracy(rev_set, rev_set_type):\n",
        "  accuracy = 0\n",
        "  for index in rev_set:\n",
        "    if index['data']['sentiment'] == rev_set_type:\n",
        "      accuracy += 1\n",
        "  accuracy = round((accuracy/len(rev_set))*100, 2)\n",
        "  return accuracy"
      ],
      "metadata": {
        "id": "aANOVLVWSqZD"
      },
      "execution_count": null,
      "outputs": []
    },
    {
      "cell_type": "code",
      "source": [
        "neg_reviews = [fetch_data('neg', review) for review in range(500)]\n",
        "negative_data = count_words(neg_reviews)"
      ],
      "metadata": {
        "id": "rRSWXhw88Ude"
      },
      "execution_count": null,
      "outputs": []
    },
    {
      "cell_type": "code",
      "source": [
        "pos_reviews = [fetch_data('pos', review) for review in range(500)]\n",
        "positive_data = count_words(pos_reviews)"
      ],
      "metadata": {
        "id": "v5sOHQOQ_8Ef"
      },
      "execution_count": null,
      "outputs": []
    },
    {
      "cell_type": "code",
      "source": [
        "analyse_review_data(negative_data, data_set, 0.516)\n",
        "analyse_review_data(positive_data, data_set, 0.516)"
      ],
      "metadata": {
        "id": "GM2dmsDhYuR9"
      },
      "execution_count": null,
      "outputs": []
    },
    {
      "cell_type": "code",
      "source": [
        "print(f'''accuracy for negative data: {get_accuracy(negative_data, 'negative')}%\n",
        "accuracy for positive data: {get_accuracy(positive_data, 'positive')}%''')"
      ],
      "metadata": {
        "colab": {
          "base_uri": "https://localhost:8080/"
        },
        "id": "RWV_0DZsq2JO",
        "outputId": "9549934c-8d14-41e5-db65-1657decb6d22"
      },
      "execution_count": null,
      "outputs": [
        {
          "output_type": "stream",
          "name": "stdout",
          "text": [
            "accuracy for negative data: 85.2%\n",
            "accuracy for positive data: 86.2%\n"
          ]
        }
      ]
    },
    {
      "cell_type": "code",
      "source": [
        "#[f'''{index['data']['rating']}% {index['data']['sentiment']}''' for index in negative_data]"
      ],
      "metadata": {
        "id": "49yL81dhcQUm"
      },
      "execution_count": null,
      "outputs": []
    },
    {
      "cell_type": "markdown",
      "source": [
        "**Notes:** \n",
        "\n",
        "\n",
        "*   The accuracy of the analyzation algorithm decreases dramatically when handling negative reviews as opposed to positive reviews.\n",
        ">Possibly because it takes more motivation for people to write positive reviews than it does to write neg reviews. Therefore positive reviews may be more dramatically positive which causes a higher accuracy due to easier detection.\n",
        "\n"
      ],
      "metadata": {
        "id": "82hp2RvN9dBa"
      }
    },
    {
      "cell_type": "markdown",
      "source": [
        "#Graph how change in pos vs neg bias affects accuracy\n",
        "\n",
        "Create a graph with accuracy as x-axis and bias as x-axis\n",
        "\n",
        "The intersection between the two graphs can be used to calibrate the bias of the MLM (Machine Learning Model)"
      ],
      "metadata": {
        "id": "V5-c3OrIE6j9"
      }
    },
    {
      "cell_type": "code",
      "source": [
        "neg_accuracy = []\n",
        "pos_accuracy = []\n",
        "for percent in range(1000):\n",
        "  analyse_review_data(negative_data, data_set, percent/1000)\n",
        "  analyse_review_data(positive_data, data_set, percent/1000)\n",
        "  neg_accuracy.append(get_accuracy(negative_data, 'negative'))\n",
        "  pos_accuracy.append(get_accuracy(positive_data, 'positive'))"
      ],
      "metadata": {
        "id": "TPPjU1DBLNzj"
      },
      "execution_count": null,
      "outputs": []
    },
    {
      "cell_type": "code",
      "source": [
        "import matplotlib.pyplot as plt\n",
        "import numpy as np\n",
        "\n",
        "x = [number/1000 for number in range(1000)]\n",
        "pos_array = np.array(pos_accuracy)\n",
        "neg_array = np.array(neg_accuracy)\n",
        "x_array = np.array(x)\n",
        "\n",
        "plt.plot(x_array, pos_array)\n",
        "plt.plot(x_array, neg_array)\n",
        "\n",
        "idx = np.argwhere(np.diff(np.sign(pos_array - neg_array))).flatten()\n",
        "plt.plot(x_array[idx], neg_array[idx], 'ro')\n",
        "plt.show()\n",
        "\n",
        "idx"
      ],
      "metadata": {
        "colab": {
          "base_uri": "https://localhost:8080/",
          "height": 283
        },
        "id": "zAvjig50G2-N",
        "outputId": "f0703ce0-c341-41b6-c38f-82861690bdbe"
      },
      "execution_count": null,
      "outputs": [
        {
          "output_type": "display_data",
          "data": {
            "text/plain": [
              "<Figure size 432x288 with 1 Axes>"
            ],
            "image/png": "[encoded data removed]"
          },
          "metadata": {
            "needs_background": "light"
          }
        },
        {
          "output_type": "execute_result",
          "data": {
            "text/plain": [
              "array([516])"
            ]
          },
          "metadata": {},
          "execution_count": 145
        }
      ]
    },
    {
      "cell_type": "markdown",
      "source": [
        "#**Re-Create above code to add and store data in a dataclass \"Sentiment_data\"**"
      ],
      "metadata": {
        "id": "bjJnuF4u1pvW"
      }
    },
    {
      "cell_type": "code",
      "source": [
        "@dataclass\n",
        "class Sentiment_Data:\n",
        "  file_name: str\n",
        "  review: str\n",
        "  word_frequency: dict\n",
        "  rating: float                   # stars given to the review by reviewer\n",
        "  known_sentiment: str            \n",
        "  calculated_sentiment: str       # guess made by algorithm based on inputted data model"
      ],
      "metadata": {
        "id": "S7t4APN1lrM7"
      },
      "execution_count": null,
      "outputs": []
    },
    {
      "cell_type": "markdown",
      "source": [
        "# **Sentiment analysis method: 2**\n",
        "In this method I use a data set I made containing common adjectives and adverbs. I'll use the data set to find sets (combinations) of adverb+adjective pairings. These pairings (phrases) will be given a sentiment score which will be determined by assigning the phrase a value (1 for positive, -1 for negative) and dividing it by the index of the phrase of all the phrases in the text."
      ],
      "metadata": {
        "id": "RBTu3cvmnHZe"
      }
    },
    {
      "cell_type": "code",
      "source": [
        "# Import phrase data set from my g-drive\n",
        "from google.colab import auth\n",
        "auth.authenticate_user()\n",
        "import gspread\n",
        "from google.auth import default\n",
        "creds, _ = default()\n",
        "gc = gspread.authorize(creds)\n",
        "worksheet = gc.open('Trial2Spreadsheet').sheet1"
      ],
      "metadata": {
        "id": "IJOoyfXNoPRy"
      },
      "execution_count": null,
      "outputs": []
    },
    {
      "cell_type": "markdown",
      "source": [
        "I found the simplest way to create this data set to import was on google sheets. The following code sorts the sheets data into a structured data set which we can use for sentiment analysis."
      ],
      "metadata": {
        "id": "6vJj6ejZoirR"
      }
    },
    {
      "cell_type": "code",
      "source": [
        "# Sorting sheets data into structured set for easier use later on\n",
        "rows = worksheet.get_all_values()\n",
        "data_set = dict()\n",
        "data_set['pos adj'] = [row[0].lower() for row in rows if row[0] != \"\"]\n",
        "data_set['neg adj'] = [row[1].lower() for row in rows if row[1] != \"\"]\n",
        "data_set['pos adv'] = [row[2].lower() for row in rows if row[2] != \"\"]\n",
        "data_set['neg adv'] = [row[3].lower() for row in rows if row[3] != \"\"]"
      ],
      "metadata": {
        "id": "vC6QMrtAo1qN"
      },
      "execution_count": null,
      "outputs": []
    },
    {
      "cell_type": "code",
      "source": [
        "data_set['neg adj']"
      ],
      "metadata": {
        "id": "0v6yHgIjQOgI"
      },
      "execution_count": null,
      "outputs": []
    },
    {
      "cell_type": "markdown",
      "source": [
        "Now moving on to the test preperation, functions are built to do the following in order to process the data and prep it for analysis:\n",
        "1. Punctuation removal\n",
        "2. Stemming - taking the roots of the word ie; \"waiting\" becomes \"wait\"\n",
        "3. Removing Stopwords - removes all words that aren't adjectives or adverbs ( for this case)"
      ],
      "metadata": {
        "id": "6OqpoALwsS1j"
      }
    },
    {
      "cell_type": "code",
      "source": [
        "neg_reviews = [fetch_data('neg', review) for review in range(10)]"
      ],
      "metadata": {
        "id": "G9IplcqtGLZB"
      },
      "execution_count": null,
      "outputs": []
    },
    {
      "cell_type": "code",
      "source": [
        "neg_reviews[6]"
      ],
      "metadata": {
        "colab": {
          "base_uri": "https://localhost:8080/",
          "height": 143
        },
        "id": "FENUBFD2VQ9E",
        "outputId": "0eb2daab-e88a-4fe1-d5ed-a04d304526ec"
      },
      "execution_count": null,
      "outputs": [
        {
          "output_type": "execute_result",
          "data": {
            "text/plain": [
              "'A tough sell: British playwright Ronald Harwood adapts his autobiographical stage drama into loud, bellowing film about WWII Shakespearean theatrical troupe saddled with an aged, blustery, brilliant-but-unreliable star at the end of his tether. The actor\\'s effete assistant works diligently to get his master coiffed and costumed for a production of \"King Lear\" (during an Air Raid!), yet both men are losing their grip on their unraveling situation. Based on the waning years of actor Donald Wolfit, whose dresser was Ronald Harwood, this acclaimed production would seem to be a welcome haven for scenery-chewing thespians. Unfortunately, Albert Finney (at this point in his career, not at all elderly) seems too robust and quick-thinking to play the actor; Finney (and Oscar-nominated director Peter Yates) cannot modulate Sir\\'s moods and bouts of coherency in a way that makes sense to us, so that in one scene he\\'s stopping a train with the commanding echo of his voice, and in the next he\\'s curiously falling apart. With such a wreck of a human being in the midst of failing health and aptitude, one would assume a dedicated assistant would go to great lengths to protect his boss (and his future), yet servant Tom Courtenay prods and badgers and goads Finney to carry on rather than rest. Courtenay, who played this part on stage (and was nominated for an Oscar alongside Finney for Best Actor), is far more attuned to his role, and eventually his bleating commands and confusion achieve the only real feeling in the film. These two, thankfully, do not peck at each other\\'s heads, and scenarist Harwood is careful not to fall into a love-hate pattern (which could possibly be perceived in the film\\'s first act); but, without a juxtaposition of servant vs. celebrity, there\\'s nothing much to behold in this portrait except for the deterioration of narcissism, the hint at what once was. *1/2 from ****'"
            ],
            "application/vnd.google.colaboratory.intrinsic+json": {
              "type": "string"
            }
          },
          "metadata": {},
          "execution_count": 135
        }
      ]
    },
    {
      "cell_type": "code",
      "source": [
        "for review in neg_reviews:\n",
        "  word_list = remove_stopwords(review)\n",
        "  phrases = [(word, word_list[word_list.index(word) + 1]) for word in word_list if word_list.index(word) + 1 < len(word_list)]\n",
        "  print([phrase for phrase in phrases if phrase[0] in data_set['neg adj'] or phrase[0] in data_set['neg adv']])\n",
        "  print([phrase for phrase in phrases if phrase[0] in data_set['pos adj'] or phrase[0] in data_set['pos adv']])"
      ],
      "metadata": {
        "colab": {
          "base_uri": "https://localhost:8080/"
        },
        "id": "-rpU2vjcIG2i",
        "outputId": "2bb26175-4c34-4fe0-ee39-e4cc2a7ae172"
      },
      "execution_count": null,
      "outputs": [
        {
          "output_type": "stream",
          "name": "stdout",
          "text": [
            "[('dragged', 'movie'), ('cocky', 'overconfident'), ('overconfident', 'ashton'), ('stinker', 'costner')]\n",
            "[('better', 'anyone')]\n",
            "[('pale', 'imitation'), ('hackneyed', 'long'), ('confusing', 'kutcher')]\n",
            "[('love', 'interest'), ('love', 'interest'), ('free', 'certainly')]\n",
            "[('ever', 'since'), ('yet', 'one'), ('terrible', 'richard'), ('never', 'care'), ('never', 'care'), ('never', 'care')]\n",
            "[('great', 'etc'), ('great', 'etc')]\n",
            "[('supposed', 'awe')]\n",
            "[('better', 'movies'), ('kind', 'movie'), ('good', 'slightly')]\n",
            "[('unrelated', 'string'), ('ever', 'develops')]\n",
            "[('real', 'front')]\n",
            "[('sadistic', 'demands'), ('none', 'fresh'), ('none', 'fresh'), ('weak', 'get')]\n",
            "[('calm', 'none'), ('kind', 'documentary'), ('safety', 'lives')]\n",
            "[('loud', 'bellowing'), ('yet', 'men'), ('unfortunately', 'albert'), ('yet', 'men')]\n",
            "[('dedicated', 'assistant'), ('great', 'lengths'), ('real', 'feeling'), ('careful', 'fall')]\n",
            "[('never', 'engages'), ('supposed', 'give'), ('never', 'engages'), ('ever', 'came'), ('difficult', 'bear')]\n",
            "[('good', 'ever')]\n",
            "[('conniving', 'deceptive'), ('never', 'always'), ('waste', 'time')]\n",
            "[('love', 'war'), ('beautiful', 'feminine')]\n",
            "[('irresponsible', 'darling'), ('hopelessly', 'old'), ('boring', 'songs'), ('vulgar', 'bits'), ('sadly', 'crashed'), ('ever', 'surfaced')]\n",
            "[('informative', 'almost'), ('excellent', 'film'), ('mature', 'especially'), ('love', 'story')]\n"
          ]
        }
      ]
    },
    {
      "cell_type": "code",
      "source": [
        "neg_review_data = count_words(neg_reviews)\n",
        "pos_review_data = count_words(pos_reviews)"
      ],
      "metadata": {
        "id": "mtZyLQbuwJz_"
      },
      "execution_count": null,
      "outputs": []
    }
  ]
}